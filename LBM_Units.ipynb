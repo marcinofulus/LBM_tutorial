{
 "cells": [
  {
   "cell_type": "markdown",
   "metadata": {
    "slideshow": {
     "slide_type": "slide"
    }
   },
   "source": [
    "## Units\n",
    "\n",
    "### length, time and velocity\n",
    "\n",
    "We define:\n",
    "\n",
    " - $\\Delta x$ - how many meters has one lattice unit\n",
    " - $\\Delta t$ - how many seconds takes one step\n",
    "\n",
    "which implies that:\n",
    "\n",
    "$$ \\Delta u = \\frac{\\Delta x}{\\Delta t}$$ \n",
    "\n",
    "is velocity scaling factor. note, that it is more common to start with setting $\\Delta u$ and $\\Delta x$ and use the above formula to get $delta t$\n",
    "\n",
    "Thus we have:\n",
    "\n",
    "$$ x = \\Delta x\\cdot x_{lu}$$\n",
    "$$ t = \\Delta y\\cdot t_{lu}$$\n",
    "$$ u = \\Delta u\\cdot u_{lu}$$\n",
    "\n",
    "\n"
   ]
  },
  {
   "cell_type": "markdown",
   "metadata": {
    "slideshow": {
     "slide_type": "slide"
    }
   },
   "source": [
    "### Density\n",
    "\n",
    "Usuallly density is more commonly used that the mass in LBM, so:\n",
    "\n",
    "\n",
    "$$ \\Delta \\rho = \\frac{\\rho}{\\rho_{lu}}$$\n",
    "\n",
    "Since usually $\\rho_{lu}=1$, $\\Delta \\rho$ is a density which corresponds to the unit LB density. For clarity we will keep the $\\rho_{lu}$ in all formulas."
   ]
  },
  {
   "cell_type": "markdown",
   "metadata": {
    "slideshow": {
     "slide_type": "slide"
    }
   },
   "source": [
    "### Mass\n",
    "\n",
    "$$ \\alpha\\; m_{lu} =  m $$\n",
    "    \n",
    "then \n",
    "\n",
    "$$ \\alpha \\rho_{lu} (x_{lu})^3 =\\alpha m_{lu} =  m = \\rho x^3 =  {\\rho_{lu}} \\frac{\\rho}{\\rho_{lu}}(\\Delta x)^3 x_{lu} $$\n",
    "\n",
    "thus:\n",
    "\n",
    "$$ \\alpha  =  \\frac{\\rho}{\\rho_{lu}} \\Delta x^3  $$\n",
    "\n",
    "\n",
    "Finally we get:\n",
    "\n",
    "$$ m = \\frac{\\rho}{\\rho_{lu}}  \\Delta x^3 m_{lu} $$\n",
    "$$ m_{lu} = \\frac{\\rho_{lu}}{\\rho}  \\frac{1}{\\Delta x^3}  m $$\n",
    "\n",
    "\n",
    "\n"
   ]
  },
  {
   "cell_type": "markdown",
   "metadata": {
    "slideshow": {
     "slide_type": "slide"
    }
   },
   "source": [
    "### Force\n",
    "\n",
    "Let us assume that:\n",
    "    \n",
    "$$ \\alpha\\; F_{lu} =  F $$\n",
    "    \n",
    "then \n",
    "\n",
    "$$\\alpha m_{lu} a_{lu} =\\alpha F_{lu} =  F = m a = \\Delta\\rho\\; (\\Delta x)^3 m_{lu}\\; \\frac{\\Delta x}{\\Delta t^2} a_{lu} $$\n",
    "\n",
    "thus:\n",
    "\n",
    "$$ \\alpha = \\Delta\\rho\\; \\frac{\\Delta x^4}{\\Delta t^2}  $$\n",
    "\n",
    "\n",
    "\n",
    "We have:\n",
    "\n",
    "$$ F_{lu} = \\frac{1}{\\Delta\\rho\\;} \\frac{\\Delta t^2}{\\Delta x^4}  F $$\n",
    "$$ F = \\Delta\\rho\\; \\frac{\\Delta x^4}{\\Delta t^2}  F_{lu}  $$"
   ]
  },
  {
   "cell_type": "markdown",
   "metadata": {
    "slideshow": {
     "slide_type": "slide"
    }
   },
   "source": [
    "### Pressure\n",
    "\n",
    "Let us assume that:\n",
    "\n",
    "$$ \\alpha \\; P_{lu}  =  P $$\n",
    "\n",
    "then\n",
    "$$ \\alpha \\; \\frac{F_{lu}}{x^2_{lu}}  = \\alpha \\; P_{lu} = P =  \\frac{F}{x^2} = \\Delta\\rho\\; \\frac{\\Delta x^4}{\\Delta t^2}  F_{lu} \\frac{ 1 }{\\Delta x^2 x_{lu} } $$\n",
    "\n",
    "thus:\n",
    "\n",
    "$$ \\alpha  =\\Delta\\rho\\; \\frac{\\Delta x^2}{\\Delta t^2}$$\n",
    "\n",
    "We have:\n",
    "\n",
    "$$  P = \\Delta\\rho\\;\\frac{\\Delta x^2}{\\Delta t^2} P_{lu}  $$\n",
    "\n",
    "However in Lattice units we have the equation of state which expresses dependence of density and pressure. For the isothermal model it reads:\n",
    "\n",
    "$$ P_{lu} = c_s^2 \\rho_{lu}$$\n",
    "\n",
    "then:\n",
    "\n",
    "\n",
    "$$  P =  c_s^2 \\rho_{lu} \\; \\Delta\\rho\\; \\left(\\frac{\\Delta x}{\\Delta t}\\right)^2  $$\n"
   ]
  },
  {
   "cell_type": "markdown",
   "metadata": {},
   "source": [
    "### Viscosity\n",
    "\n",
    "$$ \\frac{F}{A} = \\mu \\frac{u}{x}$$\n",
    "\n",
    "so \n",
    "\n",
    "$$ \\mu = \\frac{x}{u}\\frac{F}{A}$$\n",
    "\n",
    "$$ \\nu = \\frac{\\mu}{\\rho} = \\frac{x}{u}\\frac{F}{A\\rho}$$\n",
    "\n",
    "let us make an assumption:\n",
    "\n",
    "$$  \\alpha \\nu_{lb} = \\nu$$ \n",
    "\n",
    "thus:\n",
    "\n",
    "$$  \\alpha \\nu_{lb} =\\alpha \\frac{x_{lb}}{u_{lb}}\\frac{F_{lb}}{A_{lb}\\rho_{lb}} = \\frac{x}{u}\\frac{F}{A\\rho}=\\frac{\\Delta x x_{lb}}{\\frac{\\Delta x}{\\Delta t}u_{lb}}\\frac{\\Delta\\rho\\; \\frac{\\Delta x^4}{\\Delta t^2} F_{lb}}{\\Delta x^2 A_{lb}\\Delta \\rho\\rho_{lb}}  $$ \n",
    "\n",
    "we get:\n",
    "\n",
    "$$  \\alpha  = \\frac{\\Delta x^2}{\\Delta t}\n",
    "\n",
    "\n",
    "\n",
    "$$  \\nu = \\frac{\\Delta x^2}{\\Delta t} \\nu_{lb} $$ \n",
    "$$  \\nu_{lb}= \\frac{\\Delta t}{\\Delta x^2}  \\nu$$ \n"
   ]
  },
  {
   "cell_type": "code",
   "execution_count": null,
   "metadata": {
    "collapsed": true
   },
   "outputs": [],
   "source": []
  },
  {
   "cell_type": "code",
   "execution_count": null,
   "metadata": {
    "collapsed": true
   },
   "outputs": [],
   "source": []
  },
  {
   "cell_type": "code",
   "execution_count": null,
   "metadata": {
    "collapsed": true
   },
   "outputs": [],
   "source": []
  }
 ],
 "metadata": {
  "celltoolbar": "Slideshow",
  "kernelspec": {
   "display_name": "Python 2",
   "language": "python",
   "name": "python2"
  },
  "language_info": {
   "codemirror_mode": {
    "name": "ipython",
    "version": 2
   },
   "file_extension": ".py",
   "mimetype": "text/x-python",
   "name": "python",
   "nbconvert_exporter": "python",
   "pygments_lexer": "ipython2",
   "version": "2.7.6"
  }
 },
 "nbformat": 4,
 "nbformat_minor": 0
}
