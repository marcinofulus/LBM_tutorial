{
 "cells": [
  {
   "cell_type": "markdown",
   "metadata": {},
   "source": [
    "# LBM tutorial\n",
    "\n",
    "## installation\n",
    "\n",
    " - First we will assume that there is a current version of a sailfish in current directory.\n",
    " \n",
    "         !git clone https://github.com/sailfish-team/sailfish\n",
    "         \n",
    " \n",
    "         \n",
    "### on using sailfish in jupyter notebook\n",
    "\n",
    "There are two possibilities to use sailfish in the jupyter notebook. \n",
    "\n",
    "1.  Create script and run from notebook:\n",
    "\n",
    "    - we will write script in data subdirectory, using %writefile magic\n",
    "    - the script will be executed by %sh magic\n",
    "    - output will be put in data subdirectory\n",
    "    - notebook is used for data processing and experimentation\n",
    "\n",
    "2. Sailfish process in run by the python interpreter in the jupyter notebook:\n",
    "\n",
    "    - works only in the single block i.e. `--debug_single_process` flag is mandatory\n",
    "    - allows for interactive data exploration during and after after simulation\n",
    "    - allows for interacting with ipywidgets during simulation\n",
    "    \n",
    "   "
   ]
  },
  {
   "cell_type": "code",
   "execution_count": 1,
   "metadata": {
    "collapsed": false,
    "scrolled": true
   },
   "outputs": [
    {
     "name": "stdout",
     "output_type": "stream",
     "text": [
      "/home/users/marcin.kostur/LBM_tutorial_git\n"
     ]
    }
   ],
   "source": [
    "%%sh \n",
    "pwd"
   ]
  },
  {
   "cell_type": "code",
   "execution_count": 2,
   "metadata": {
    "collapsed": false
   },
   "outputs": [
    {
     "name": "stdout",
     "output_type": "stream",
     "text": [
      "Already up-to-date.\n"
     ]
    }
   ],
   "source": [
    "%%sh\n",
    "cd sailfish\n",
    "git pull "
   ]
  },
  {
   "cell_type": "code",
   "execution_count": 3,
   "metadata": {
    "collapsed": false
   },
   "outputs": [
    {
     "name": "stdout",
     "output_type": "stream",
     "text": [
      "fatal: destination path 'sailfish' already exists and is not an empty directory.\r\n"
     ]
    }
   ],
   "source": [
    "!git clone https://github.com/marcinofulus/sailfish"
   ]
  },
  {
   "cell_type": "code",
   "execution_count": 4,
   "metadata": {
    "collapsed": false
   },
   "outputs": [
    {
     "name": "stdout",
     "output_type": "stream",
     "text": [
      "/dev/shm/marcin.kostur/data :: File exists\n"
     ]
    }
   ],
   "source": [
    "%matplotlib inline\n",
    "import matplotlib.pyplot as plt\n",
    "import numpy as np\n",
    "import sys, os\n",
    "sys.path.append('./sailfish/')\n",
    "\n",
    "datapath = os.path.join( \"/dev/shm/\",os.environ.get(\"USER\"),\"data\")\n",
    "try:\n",
    "    os.makedirs(datapath,mode=0755)\n",
    "except OSError as ex:\n",
    "    print datapath,\"::\",ex.strerror\n",
    "\n",
    "if not os.path.isdir('data') and os.path.islink('data'):\n",
    "    os.remove(\"data\")\n",
    "    \n",
    "if not os.path.islink('data'):\n",
    "    os.symlink(datapath, \"data\")\n"
   ]
  },
  {
   "cell_type": "code",
   "execution_count": null,
   "metadata": {
    "collapsed": true
   },
   "outputs": [],
   "source": []
  }
 ],
 "metadata": {
  "kernelspec": {
   "display_name": "GPU2, Python 2",
   "language": "python2",
   "name": "gpu2"
  },
  "language_info": {
   "codemirror_mode": {
    "name": "ipython",
    "version": 2
   },
   "file_extension": ".py",
   "mimetype": "text/x-python",
   "name": "python",
   "nbconvert_exporter": "python",
   "pygments_lexer": "ipython2",
   "version": "2.7.6"
  }
 },
 "nbformat": 4,
 "nbformat_minor": 0
}
