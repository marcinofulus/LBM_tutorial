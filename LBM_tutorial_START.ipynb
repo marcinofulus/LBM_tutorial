{
 "cells": [
  {
   "cell_type": "markdown",
   "metadata": {},
   "source": [
    "# LBM tutorial\n",
    "\n",
    "## installation\n",
    "\n",
    " - First we will assume that there is a current version of a sailfish in current directory.\n",
    " \n",
    "         !git clone https://github.com/sailfish-team/sailfish\n",
    "         \n",
    " \n",
    "         \n",
    "### on using sailfish in jupyter notebook\n",
    "\n",
    "There are two possibilities to use sailfish in the jupyter notebook. \n",
    "\n",
    "1.  Create script and run from notebook:\n",
    "\n",
    "    - we will write script in data subdirectory, using %writefile magic\n",
    "    - the script will be executed by %sh magic\n",
    "    - output will be put in data subdirectory\n",
    "    - notebook is used for data processing and experimentation\n",
    "\n",
    "2. Sailfish process in run by the python interpreter in the jupyter notebook:\n",
    "\n",
    "    - works only in the single block i.e. `--debug_single_process` flag is mandatory\n",
    "    - allows for interactive data exploration during and after after simulation\n",
    "    - allows for interacting with ipywidgets during simulation\n",
    "    \n",
    "   "
   ]
  },
  {
   "cell_type": "code",
   "execution_count": 1,
   "metadata": {
    "collapsed": false,
    "scrolled": true
   },
   "outputs": [
    {
     "name": "stdout",
     "output_type": "stream",
     "text": [
      "/home/users/marcin.kostur/LBM_tutorial_git\n"
     ]
    }
   ],
   "source": [
    "%%sh \n",
    "pwd"
   ]
  },
  {
   "cell_type": "code",
   "execution_count": 2,
   "metadata": {
    "collapsed": false
   },
   "outputs": [
    {
     "name": "stdout",
     "output_type": "stream",
     "text": [
      "Already up-to-date.\n"
     ]
    }
   ],
   "source": [
    "%%sh\n",
    "cd sailfish\n",
    "git pull "
   ]
  },
  {
   "cell_type": "code",
   "execution_count": 3,
   "metadata": {
    "collapsed": false
   },
   "outputs": [
    {
     "name": "stdout",
     "output_type": "stream",
     "text": [
      "fatal: destination path 'sailfish' already exists and is not an empty directory.\r\n"
     ]
    }
   ],
   "source": [
    "!git clone https://github.com/marcinofulus/sailfish"
   ]
  },
  {
   "cell_type": "code",
   "execution_count": 1,
   "metadata": {
    "collapsed": false
   },
   "outputs": [
    {
     "name": "stdout",
     "output_type": "stream",
     "text": [
      "/dev/shm/marcin.kostur/data :: File exists\n"
     ]
    }
   ],
   "source": [
    "%matplotlib inline\n",
    "import matplotlib.pyplot as plt\n",
    "import numpy as np\n",
    "import sys, os\n",
    "sys.path.append('./sailfish/')\n",
    "\n",
    "datapath = os.path.join( \"/dev/shm/\",os.environ.get(\"USER\"),\"data\")\n",
    "try:\n",
    "    os.makedirs(datapath,mode=0755)\n",
    "except OSError as ex:\n",
    "    print datapath,\"::\",ex.strerror\n",
    "\n",
    "if not os.path.isdir('data') and os.path.islink('data'):\n",
    "    os.remove(\"data\")\n",
    "    \n",
    "if not os.path.islink('data'):\n",
    "    os.symlink(datapath, \"data\")\n"
   ]
  },
  {
   "cell_type": "markdown",
   "metadata": {},
   "source": [
    "### checking for nvidia devices"
   ]
  },
  {
   "cell_type": "code",
   "execution_count": 2,
   "metadata": {
    "collapsed": false
   },
   "outputs": [
    {
     "name": "stdout",
     "output_type": "stream",
     "text": [
      "0 :: Tesla K40m (3, 5) 11.2495727539 GB 10.964641571 11.2495727539\n",
      "1 :: Tesla K40m (3, 5) 11.2495727539 GB 11.1545028687 11.2495727539\n"
     ]
    }
   ],
   "source": [
    "import pycuda.driver as cuda\n",
    "cuda.init()\n",
    "for i in range( cuda.Device.count()):\n",
    "    device = cuda.Device(i)\n",
    "    ctx = device.make_context()\n",
    "\n",
    "    (free,total)=cuda.mem_get_info()\n",
    "\n",
    "    print i,\"::\",device.name(), device.compute_capability(),\\\n",
    "        device.total_memory()/1024.**3,\"GB\", free/1024.**3,total/1024.**3\n",
    "    ctx.detach()"
   ]
  },
  {
   "cell_type": "code",
   "execution_count": 3,
   "metadata": {
    "collapsed": true
   },
   "outputs": [],
   "source": []
  },
  {
   "cell_type": "code",
   "execution_count": 3,
   "metadata": {
    "collapsed": false
   },
   "outputs": [
    {
     "ename": "ImportError",
     "evalue": "No module named pynvml",
     "output_type": "error",
     "traceback": [
      "\u001b[0;31m\u001b[0m",
      "\u001b[0;31mImportError\u001b[0mTraceback (most recent call last)",
      "\u001b[0;32m<ipython-input-3-f11cf6121fd7>\u001b[0m in \u001b[0;36m<module>\u001b[0;34m()\u001b[0m\n\u001b[0;32m----> 1\u001b[0;31m \u001b[0;32mfrom\u001b[0m \u001b[0mpynvml\u001b[0m \u001b[0;32mimport\u001b[0m \u001b[0;34m*\u001b[0m\u001b[0;34m\u001b[0m\u001b[0m\n\u001b[0m\u001b[1;32m      2\u001b[0m \u001b[0mnvmlInit\u001b[0m\u001b[0;34m(\u001b[0m\u001b[0;34m)\u001b[0m\u001b[0;34m\u001b[0m\u001b[0m\n",
      "\u001b[0;31mImportError\u001b[0m: No module named pynvml"
     ]
    }
   ],
   "source": [
    "from pynvml import *\n",
    "nvmlInit()"
   ]
  },
  {
   "cell_type": "code",
   "execution_count": 2,
   "metadata": {
    "collapsed": false
   },
   "outputs": [
    {
     "data": {
      "text/plain": [
       "'352.79'"
      ]
     },
     "execution_count": 2,
     "metadata": {},
     "output_type": "execute_result"
    }
   ],
   "source": [
    "nvmlSystemGetDriverVersion()"
   ]
  },
  {
   "cell_type": "code",
   "execution_count": 3,
   "metadata": {
    "collapsed": false
   },
   "outputs": [
    {
     "name": "stdout",
     "output_type": "stream",
     "text": [
      "Device 0 : Tesla K40m\n",
      "Device 1 : Tesla K40m\n"
     ]
    }
   ],
   "source": [
    "deviceCount = nvmlDeviceGetCount()\n",
    "for i in range(deviceCount):\n",
    "    handle = nvmlDeviceGetHandleByIndex(i)\n",
    "    print \"Device\", i, \":\", nvmlDeviceGetName(handle)"
   ]
  },
  {
   "cell_type": "code",
   "execution_count": 8,
   "metadata": {
    "collapsed": false
   },
   "outputs": [
    {
     "name": "stdout",
     "output_type": "stream",
     "text": [
      "11.9998168945 GB\n",
      "1.780834198 GB\n"
     ]
    }
   ],
   "source": [
    "int(nvmlDeviceGetCount())\n",
    "gpuObj = nvmlDeviceGetHandleByIndex(0);\n",
    "print nvmlDeviceGetMemoryInfo(gpuObj).total/1024.**3,\"GB\"\n",
    "print nvmlDeviceGetMemoryInfo(gpuObj).used/1024.**3,\"GB\""
   ]
  },
  {
   "cell_type": "code",
   "execution_count": 12,
   "metadata": {
    "collapsed": false
   },
   "outputs": [
    {
     "data": {
      "text/plain": [
       "'Tesla K40m'"
      ]
     },
     "execution_count": 12,
     "metadata": {},
     "output_type": "execute_result"
    }
   ],
   "source": [
    "nvmlDeviceGetName(gpuObj)"
   ]
  },
  {
   "cell_type": "code",
   "execution_count": null,
   "metadata": {
    "collapsed": false
   },
   "outputs": [],
   "source": []
  },
  {
   "cell_type": "code",
   "execution_count": null,
   "metadata": {
    "collapsed": true
   },
   "outputs": [],
   "source": []
  }
 ],
 "metadata": {
  "kernelspec": {
   "display_name": "Python 2",
   "language": "python",
   "name": "python2"
  },
  "language_info": {
   "codemirror_mode": {
    "name": "ipython",
    "version": 2
   },
   "file_extension": ".py",
   "mimetype": "text/x-python",
   "name": "python",
   "nbconvert_exporter": "python",
   "pygments_lexer": "ipython2",
   "version": "2.7.12"
  }
 },
 "nbformat": 4,
 "nbformat_minor": 0
}
