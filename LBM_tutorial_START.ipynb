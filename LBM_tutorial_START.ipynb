{
 "cells": [
  {
   "cell_type": "markdown",
   "metadata": {},
   "source": [
    "# LBM tutorial\n",
    "\n",
    "## installation\n",
    "\n",
    " - First we will assume that there is a current version of a sailfish in current directory.\n",
    " \n",
    "         !git clone https://github.com/marcinofulus/sailfish.git\n",
    " \n",
    "         \n",
    "### on using sailfish in jupyter notebook\n",
    "\n",
    "There are two possibilities to use sailfish in the jupyter notebook. \n",
    "\n",
    "1.  Create script and run from notebook:\n",
    "\n",
    "    - we will write script in data subdirectory, using %writefile magic\n",
    "    - the script will be executed by %bash magic (might be nessesary to setup conda env)\n",
    "    - output will be put in data subdirectory\n",
    "    - notebook is used for data processing and experimentation\n",
    "\n",
    "2. Sailfish process in run by the python interpreter in the jupyter notebook:\n",
    "\n",
    "    - works only in the single block i.e. `--debug_single_process` flag is mandatory\n",
    "    - allows for interactive data exploration during and after after simulation, as `master` is in controller namespace\n",
    "    - allows for interacting with ipywidgets during simulation\n",
    "    \n",
    "   "
   ]
  },
  {
   "cell_type": "code",
   "execution_count": 1,
   "metadata": {
    "collapsed": false,
    "scrolled": true
   },
   "outputs": [
    {
     "name": "stdout",
     "output_type": "stream",
     "text": [
      "/home/users/marcin.kostur/LBM_tutorial_git\n"
     ]
    }
   ],
   "source": [
    "%%bash \n",
    "pwd"
   ]
  },
  {
   "cell_type": "code",
   "execution_count": 2,
   "metadata": {
    "collapsed": false
   },
   "outputs": [
    {
     "name": "stdout",
     "output_type": "stream",
     "text": [
      "Already up-to-date.\n"
     ]
    }
   ],
   "source": [
    "%%sh\n",
    "cd sailfish\n",
    "git pull "
   ]
  },
  {
   "cell_type": "code",
   "execution_count": 3,
   "metadata": {
    "collapsed": false
   },
   "outputs": [
    {
     "name": "stdout",
     "output_type": "stream",
     "text": [
      "fatal: destination path 'sailfish' already exists and is not an empty directory.\r\n"
     ]
    }
   ],
   "source": [
    "!git clone https://github.com/marcinofulus/sailfish"
   ]
  },
  {
   "cell_type": "markdown",
   "metadata": {},
   "source": [
    "### Configuration\n",
    "\n",
    "There is a following configuration cell which:\n",
    "\n",
    " - tries to separate data from code\n",
    " - sets path for interactive (in jupyter) using of sailfish\n",
    " - sets `BASH_ENV` so we gain  control on python interpreter in `%%bash`  cells\n",
    " - imports matplotlib and numpy "
   ]
  },
  {
   "cell_type": "code",
   "execution_count": 1,
   "metadata": {
    "collapsed": false
   },
   "outputs": [
    {
     "name": "stdout",
     "output_type": "stream",
     "text": [
      "/dev/shm/marcin.kostur/data :: File exists\n"
     ]
    }
   ],
   "source": [
    "%matplotlib inline\n",
    "import matplotlib.pyplot as plt\n",
    "import numpy as np\n",
    "import sys, os\n",
    "\n",
    "sys.path.append( os.path.join(os.environ.get(\"HOME\"),\"sailfish\") ) \n",
    "\n",
    "datapath = os.path.join( \"/dev/shm/\",os.environ.get(\"USER\"),\"data\")\n",
    "try:\n",
    "    os.makedirs(datapath,mode=0755)\n",
    "except OSError as ex:\n",
    "    print datapath,\"::\",ex.strerror\n",
    "\n",
    "if not os.path.isdir('data') and os.path.islink('data'):\n",
    "    os.remove(\"data\")\n",
    "    \n",
    "if not os.path.islink('data'):\n",
    "    os.symlink(datapath, \"data\")\n",
    "\n",
    "%env BASH_ENV= ~/.bash_profile"
   ]
  },
  {
   "cell_type": "code",
   "execution_count": null,
   "metadata": {
    "collapsed": true
   },
   "outputs": [],
   "source": []
  },
  {
   "cell_type": "markdown",
   "metadata": {},
   "source": [
    "#### Note:\n",
    "\n",
    "  - In this tutorial we will use %%bash magic for running commands. If there is a need to configure e.g. conda environment, setting once in the notebook BASH_ENV variable will force all %%bash cell to run given config file.\n",
    "\n",
    "For example we use:\n"
   ]
  },
  {
   "cell_type": "code",
   "execution_count": 3,
   "metadata": {
    "collapsed": false
   },
   "outputs": [
    {
     "name": "stdout",
     "output_type": "stream",
     "text": [
      "env: BASH_ENV=~/.bash_profile\n"
     ]
    }
   ],
   "source": [
    "%env BASH_ENV= ~/.bash_profile"
   ]
  },
  {
   "cell_type": "markdown",
   "metadata": {},
   "source": [
    "Content of this `.bash_profile` can be for  file is read by shell when `%%bash` magic is used. \n",
    "One might want to choose certain conda env:\n",
    "\n",
    "    source activate py27\n",
    "\n",
    "\n",
    "Note, that it does not work with `%%sh`."
   ]
  },
  {
   "cell_type": "markdown",
   "metadata": {},
   "source": [
    "## Checking for nvidia devices\n",
    "\n",
    "To make sure that pycuda - required for sailfish - works one might check:"
   ]
  },
  {
   "cell_type": "code",
   "execution_count": 4,
   "metadata": {
    "collapsed": false
   },
   "outputs": [
    {
     "name": "stdout",
     "output_type": "stream",
     "text": [
      "0 :: Tesla K40m (3, 5) 11.1717529297 GB 10.5391845703 11.1717529297\n",
      "1 :: Tesla K40m (3, 5) 11.1717529297 GB 11.1013183594 11.1717529297\n"
     ]
    }
   ],
   "source": [
    "import pycuda.driver as cuda\n",
    "cuda.init()\n",
    "for i in range( cuda.Device.count()):\n",
    "    device = cuda.Device(i)\n",
    "    ctx = device.make_context()\n",
    "\n",
    "    (free,total)=cuda.mem_get_info()\n",
    "\n",
    "    print i,\"::\",device.name(), device.compute_capability(),\\\n",
    "        device.total_memory()/1024.**3,\"GB\", free/1024.**3,total/1024.**3\n",
    "    ctx.detach()"
   ]
  },
  {
   "cell_type": "code",
   "execution_count": null,
   "metadata": {
    "collapsed": true
   },
   "outputs": [],
   "source": []
  },
  {
   "cell_type": "code",
   "execution_count": null,
   "metadata": {
    "collapsed": true
   },
   "outputs": [],
   "source": []
  },
  {
   "cell_type": "code",
   "execution_count": null,
   "metadata": {
    "collapsed": true
   },
   "outputs": [],
   "source": []
  },
  {
   "cell_type": "code",
   "execution_count": null,
   "metadata": {
    "collapsed": true
   },
   "outputs": [],
   "source": []
  },
  {
   "cell_type": "code",
   "execution_count": null,
   "metadata": {
    "collapsed": false
   },
   "outputs": [],
   "source": [
    "from pynvml import *\n",
    "nvmlInit()"
   ]
  },
  {
   "cell_type": "code",
   "execution_count": 2,
   "metadata": {
    "collapsed": false
   },
   "outputs": [
    {
     "data": {
      "text/plain": [
       "'352.79'"
      ]
     },
     "execution_count": 2,
     "metadata": {},
     "output_type": "execute_result"
    }
   ],
   "source": [
    "nvmlSystemGetDriverVersion()"
   ]
  },
  {
   "cell_type": "code",
   "execution_count": 3,
   "metadata": {
    "collapsed": false
   },
   "outputs": [
    {
     "name": "stdout",
     "output_type": "stream",
     "text": [
      "Device 0 : Tesla K40m\n",
      "Device 1 : Tesla K40m\n"
     ]
    }
   ],
   "source": [
    "deviceCount = nvmlDeviceGetCount()\n",
    "for i in range(deviceCount):\n",
    "    handle = nvmlDeviceGetHandleByIndex(i)\n",
    "    print \"Device\", i, \":\", nvmlDeviceGetName(handle)"
   ]
  },
  {
   "cell_type": "code",
   "execution_count": 8,
   "metadata": {
    "collapsed": false
   },
   "outputs": [
    {
     "name": "stdout",
     "output_type": "stream",
     "text": [
      "11.9998168945 GB\n",
      "1.780834198 GB\n"
     ]
    }
   ],
   "source": [
    "int(nvmlDeviceGetCount())\n",
    "gpuObj = nvmlDeviceGetHandleByIndex(0);\n",
    "print nvmlDeviceGetMemoryInfo(gpuObj).total/1024.**3,\"GB\"\n",
    "print nvmlDeviceGetMemoryInfo(gpuObj).used/1024.**3,\"GB\""
   ]
  },
  {
   "cell_type": "code",
   "execution_count": 12,
   "metadata": {
    "collapsed": false
   },
   "outputs": [
    {
     "data": {
      "text/plain": [
       "'Tesla K40m'"
      ]
     },
     "execution_count": 12,
     "metadata": {},
     "output_type": "execute_result"
    }
   ],
   "source": [
    "nvmlDeviceGetName(gpuObj)"
   ]
  },
  {
   "cell_type": "code",
   "execution_count": null,
   "metadata": {
    "collapsed": false
   },
   "outputs": [],
   "source": []
  },
  {
   "cell_type": "code",
   "execution_count": null,
   "metadata": {
    "collapsed": true
   },
   "outputs": [],
   "source": []
  }
 ],
 "metadata": {
  "kernelspec": {
   "display_name": "Python 2",
   "language": "python",
   "name": "python2"
  },
  "language_info": {
   "codemirror_mode": {
    "name": "ipython",
    "version": 2
   },
   "file_extension": ".py",
   "mimetype": "text/x-python",
   "name": "python",
   "nbconvert_exporter": "python",
   "pygments_lexer": "ipython2",
   "version": "2.7.12"
  }
 },
 "nbformat": 4,
 "nbformat_minor": 0
}
