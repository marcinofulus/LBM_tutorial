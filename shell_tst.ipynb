{
 "cells": [
  {
   "cell_type": "code",
   "execution_count": 2,
   "metadata": {
    "collapsed": false
   },
   "outputs": [
    {
     "name": "stdout",
     "output_type": "stream",
     "text": [
      "TERM=xterm-color\n",
      "SHELL=/bin/bash\n",
      "CLICOLOR=1\n",
      "USER=marcin.kostur\n",
      "JPY_PARENT_PID=83184\n",
      "PAGER=cat\n",
      "PATH=/opt/conda/bin:/usr/local/sbin:/usr/local/bin:/usr/sbin:/usr/bin:/sbin:/bin:/usr/local/cuda/bin:/opt/puppetlabs/bin\n",
      "PWD=/home/users/marcin.kostur/LBM_tutorial_git\n",
      "MPLBACKEND=module://ipykernel.pylab.backend_inline\n",
      "LANG=en_GB.UTF-8\n",
      "SHLVL=1\n",
      "HOME=/home/users/marcin.kostur\n",
      "GIT_PAGER=cat\n",
      "_=/usr/bin/env\n"
     ]
    }
   ],
   "source": [
    "%%bash\n",
    "env"
   ]
  },
  {
   "cell_type": "code",
   "execution_count": 6,
   "metadata": {
    "collapsed": false
   },
   "outputs": [
    {
     "name": "stdout",
     "output_type": "stream",
     "text": [
      "\n"
     ]
    }
   ],
   "source": [
    "%%bash\n",
    "echo $HUJ"
   ]
  },
  {
   "cell_type": "code",
   "execution_count": 7,
   "metadata": {
    "collapsed": false
   },
   "outputs": [
    {
     "name": "stdout",
     "output_type": "stream",
     "text": [
      "\r\n"
     ]
    }
   ],
   "source": [
    "!echo $HUJ"
   ]
  },
  {
   "cell_type": "code",
   "execution_count": 8,
   "metadata": {
    "collapsed": false
   },
   "outputs": [
    {
     "name": "stdout",
     "output_type": "stream",
     "text": [
      "env: HUJ=23\n"
     ]
    }
   ],
   "source": [
    "%env HUJ=23"
   ]
  },
  {
   "cell_type": "code",
   "execution_count": 10,
   "metadata": {
    "collapsed": false
   },
   "outputs": [
    {
     "name": "stdout",
     "output_type": "stream",
     "text": [
      "23\n"
     ]
    }
   ],
   "source": [
    "%%sh \n",
    "echo $HUJ"
   ]
  },
  {
   "cell_type": "code",
   "execution_count": 2,
   "metadata": {
    "collapsed": false
   },
   "outputs": [
    {
     "name": "stdout",
     "output_type": "stream",
     "text": [
      "USER=marcin.kostur\n",
      "MPLBACKEND=module://ipykernel.pylab.backend_inline\n",
      "HOME=/home/users/marcin.kostur\n",
      "PAGER=cat\n",
      "TERM=xterm-color\n",
      "PATH=/opt/conda/bin:/usr/local/sbin:/usr/local/bin:/usr/sbin:/usr/bin:/sbin:/bin:/usr/local/cuda/bin:/opt/puppetlabs/bin\n",
      "LANG=en_GB.UTF-8\n",
      "SHELL=/bin/bash\n",
      "GIT_PAGER=cat\n",
      "CLICOLOR=1\n",
      "PWD=/home/users/marcin.kostur/LBM_tutorial_git\n",
      "JPY_PARENT_PID=83184\n"
     ]
    }
   ],
   "source": [
    "%%sh\n",
    "\n",
    "env"
   ]
  },
  {
   "cell_type": "code",
   "execution_count": 1,
   "metadata": {
    "collapsed": false
   },
   "outputs": [
    {
     "name": "stdout",
     "output_type": "stream",
     "text": [
      "USER=marcin.kostur\r\n",
      "MPLBACKEND=module://ipykernel.pylab.backend_inline\r\n",
      "HOME=/home/users/marcin.kostur\r\n",
      "PAGER=cat\r\n",
      "TERM=xterm-color\r\n",
      "PATH=/opt/conda/bin:/usr/local/sbin:/usr/local/bin:/usr/sbin:/usr/bin:/sbin:/bin:/usr/local/cuda/bin:/opt/puppetlabs/bin\r\n",
      "LANG=en_GB.UTF-8\r\n",
      "SHELL=/bin/bash\r\n",
      "GIT_PAGER=cat\r\n",
      "CLICOLOR=1\r\n",
      "PWD=/home/users/marcin.kostur/LBM_tutorial_git\r\n",
      "JPY_PARENT_PID=83184\r\n"
     ]
    }
   ],
   "source": [
    "!env"
   ]
  },
  {
   "cell_type": "code",
   "execution_count": 11,
   "metadata": {
    "collapsed": false
   },
   "outputs": [
    {
     "name": "stdout",
     "output_type": "stream",
     "text": [
      "/opt/conda/envs/py27/bin/python\n"
     ]
    }
   ],
   "source": [
    "%%bash \n",
    "source activate py27 \n",
    "which python"
   ]
  },
  {
   "cell_type": "code",
   "execution_count": 14,
   "metadata": {
    "collapsed": false
   },
   "outputs": [
    {
     "name": "stdout",
     "output_type": "stream",
     "text": [
      "1\n"
     ]
    }
   ],
   "source": [
    "%%sh\n",
    "export A=1\n",
    "echo $A"
   ]
  },
  {
   "cell_type": "code",
   "execution_count": 19,
   "metadata": {
    "collapsed": false
   },
   "outputs": [
    {
     "name": "stdout",
     "output_type": "stream",
     "text": [
      "TERM=xterm-color\n",
      "SHELL=/bin/bash\n",
      "CLICOLOR=1\n",
      "USER=marcin.kostur\n",
      "JPY_PARENT_PID=83184\n",
      "PAGER=cat\n",
      "PATH=/opt/conda/bin:/usr/local/sbin:/usr/local/bin:/usr/sbin:/usr/bin:/sbin:/bin:/usr/local/cuda/bin:/opt/puppetlabs/bin\n",
      "PWD=/home/users/marcin.kostur/LBM_tutorial_git\n",
      "MPLBACKEND=module://ipykernel.pylab.backend_inline\n",
      "LANG=en_GB.UTF-8\n",
      "SHLVL=1\n",
      "HOME=/home/users/marcin.kostur\n",
      "GIT_PAGER=cat\n",
      "_=/usr/bin/env\n"
     ]
    }
   ],
   "source": [
    "%%script bash --rcfile=/home/marcin\n",
    "env\n"
   ]
  },
  {
   "cell_type": "code",
   "execution_count": 20,
   "metadata": {
    "collapsed": false
   },
   "outputs": [
    {
     "name": "stdout",
     "output_type": "stream",
     "text": [
      "env: BASH_ENV=~/.bash_profile\n"
     ]
    }
   ],
   "source": [
    "%env BASH_ENV= ~/.bash_profile"
   ]
  },
  {
   "cell_type": "code",
   "execution_count": 27,
   "metadata": {
    "collapsed": false
   },
   "outputs": [
    {
     "name": "stdout",
     "output_type": "stream",
     "text": [
      "TERM=xterm-color\n",
      "SHELL=/bin/bash\n",
      "CLICOLOR=1\n",
      "USER=marcin.kostur\n",
      "JPY_PARENT_PID=83184\n",
      "PAGER=cat\n",
      "PATH=/opt/conda/envs/py27/bin:/opt/conda/bin:/usr/local/sbin:/usr/local/bin:/usr/sbin:/usr/bin:/sbin:/bin:/usr/local/cuda/bin:/opt/puppetlabs/bin\n",
      "CONDA_PATH_BACKUP=/opt/conda/bin:/usr/local/sbin:/usr/local/bin:/usr/sbin:/usr/bin:/sbin:/bin:/usr/local/cuda/bin:/opt/puppetlabs/bin\n",
      "CONDA_PREFIX=/opt/conda/envs/py27\n",
      "PWD=/home/users/marcin.kostur/LBM_tutorial_git\n",
      "MPLBACKEND=module://ipykernel.pylab.backend_inline\n",
      "LANG=en_GB.UTF-8\n",
      "PS1=(py27) \n",
      "SHLVL=1\n",
      "HOME=/home/users/marcin.kostur\n",
      "CONDA_PS1_BACKUP=\n",
      "BASH_ENV=~/.bash_profile\n",
      "CONDA_DEFAULT_ENV=py27\n",
      "GIT_PAGER=cat\n",
      "_=/usr/bin/env\n"
     ]
    }
   ],
   "source": [
    "%%bash\n",
    "env"
   ]
  },
  {
   "cell_type": "code",
   "execution_count": 16,
   "metadata": {
    "collapsed": true
   },
   "outputs": [],
   "source": [
    "%pycat data/ex1.py\n"
   ]
  },
  {
   "cell_type": "code",
   "execution_count": null,
   "metadata": {
    "collapsed": true
   },
   "outputs": [],
   "source": []
  }
 ],
 "metadata": {
  "kernelspec": {
   "display_name": "Python 2",
   "language": "python",
   "name": "python2"
  },
  "language_info": {
   "codemirror_mode": {
    "name": "ipython",
    "version": 2
   },
   "file_extension": ".py",
   "mimetype": "text/x-python",
   "name": "python",
   "nbconvert_exporter": "python",
   "pygments_lexer": "ipython2",
   "version": "2.7.12"
  }
 },
 "nbformat": 4,
 "nbformat_minor": 1
}
