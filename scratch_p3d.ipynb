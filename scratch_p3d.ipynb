{
 "cells": [
  {
   "cell_type": "code",
   "execution_count": null,
   "metadata": {
    "collapsed": true
   },
   "outputs": [],
   "source": [
    "%%writefile data/p3d.py\n",
    "import math\n",
    "import numpy as np\n",
    "\n",
    "from sailfish.subdomain import Subdomain3D\n",
    "from sailfish.node_type import NTFullBBWall, NTEquilibriumDensity\n",
    "from sailfish.controller import LBSimulationController\n",
    "from sailfish.lb_single import LBFluidSim\n",
    "\n",
    "\n",
    "class PoiseuilleSubdomain(Subdomain3D):\n",
    "    \"\"\"simple 3D Poiseuille geometry.\"\"\"\n",
    "\n",
    "    wall_bc = NTFullBBWall\n",
    "\n",
    "    def _set_pressure_bc(self, hx, hy, hz, wall_map):\n",
    "        pressure_bc = NTEquilibriumDensity\n",
    "        not_wall = np.logical_not(wall_map)\n",
    "    \n",
    "        inlet_map = (hx == 0) & not_wall\n",
    "        outlet_map = (hx == self.gx - 1) & not_wall\n",
    "\n",
    "        self.set_node(inlet_map, pressure_bc(1.0 + self.config.delta_rho / 2.0))\n",
    "        self.set_node(outlet_map, pressure_bc(1.0 - self.config.delta_rho / 2.0))\n",
    "\n",
    "    def boundary_conditions(self, hx, hy, hz):\n",
    "        \n",
    "        radiussq = (self.channel_width(self.config) / 2.0)**2\n",
    "\n",
    "        wall_map = (hy - (self.gy / 2 - 0.5))**2 + (hz - (self.gz / 2 - 0.5))**2 >= radiussq\n",
    "        np.savez(\"tube\",wall_map=wall_map)\n",
    "        self.set_node(wall_map, self.wall_bc)\n",
    "        self._set_pressure_bc(hx, hy, hz, wall_map)\n",
    "\n",
    "    def initial_conditions(self, sim, hx, hy, hz):\n",
    "        sim.rho[:] = 1.0\n",
    "        self.config.logger.info('MK Starting, l0=%f'%self.channel_width(self.config))\n",
    "\n",
    "    @classmethod\n",
    "    def channel_width(cls, config):\n",
    "        return cls.width(config) - 1 - 2 * cls.wall_bc.location\n",
    "\n",
    "    @classmethod\n",
    "    def width(cls, config):\n",
    "        return min(config.lat_ny, config.lat_nz)\n",
    "        \n",
    "\n",
    "class PoiseuilleSim(LBFluidSim):\n",
    "    subdomain = PoiseuilleSubdomain\n",
    "\n",
    "    @classmethod\n",
    "    def update_defaults(cls, defaults):\n",
    "        defaults.update({\n",
    "            'grid': 'D3Q19',\n",
    "            'lat_nx': 64,\n",
    "            'lat_ny': 64,\n",
    "            'lat_nz': 64,\n",
    "            'visc': 0.1,\n",
    "            'delta_rho': 0.01234,\n",
    "            'debug_single_process':True,\n",
    "            'max_iters':1000,\n",
    "             'verbose':0\n",
    "            })\n",
    "\n",
    "    @classmethod\n",
    "    def add_options(cls, group, dim):\n",
    "        group.add_argument('--delta_rho', type=float, default=0.001,help='Difference in density across the system in LB units.')\n",
    "\n",
    "    def __init__(self, config):\n",
    "        super(PoiseuilleSim, self).__init__(config)\n",
    "\n",
    "        \n",
    "if __name__ == '__main__':\n",
    "    ctrl = LBSimulationController(PoiseuilleSim)\n",
    "    ctrl.run()"
   ]
  },
  {
   "cell_type": "code",
   "execution_count": null,
   "metadata": {
    "collapsed": true
   },
   "outputs": [],
   "source": []
  },
  {
   "cell_type": "code",
   "execution_count": null,
   "metadata": {
    "collapsed": true
   },
   "outputs": [],
   "source": []
  },
  {
   "cell_type": "code",
   "execution_count": null,
   "metadata": {
    "collapsed": true
   },
   "outputs": [],
   "source": [
    "%%sh\n",
    "rm data/p3d*npz\n",
    "export PYTHONPATH=$PWD/sailfish/ \n",
    "python data/p3d.py --precision=double --max_iters=30000 --every=10000 --from=0 --output=data/p3d --output_format=npy\\\n",
    " --lat_nx=64 --lat_ny=64 --lat_nz=64 --visc=0.055625 --delta_rho=0.000434090322581"
   ]
  },
  {
   "cell_type": "code",
   "execution_count": 1,
   "metadata": {
    "collapsed": false
   },
   "outputs": [
    {
     "ename": "NameError",
     "evalue": "name 'np' is not defined",
     "output_type": "error",
     "traceback": [
      "\u001b[1;31m---------------------------------------------------------------------------\u001b[0m",
      "\u001b[1;31mNameError\u001b[0m                                 Traceback (most recent call last)",
      "\u001b[1;32m<ipython-input-1-00053aa184e0>\u001b[0m in \u001b[0;36m<module>\u001b[1;34m()\u001b[0m\n\u001b[1;32m----> 1\u001b[1;33m \u001b[0mdata\u001b[0m \u001b[1;33m=\u001b[0m \u001b[0mnp\u001b[0m\u001b[1;33m.\u001b[0m\u001b[0mload\u001b[0m\u001b[1;33m(\u001b[0m\u001b[1;34m'data/p3d.0.30000.npz'\u001b[0m\u001b[1;33m)\u001b[0m\u001b[1;33m\u001b[0m\u001b[0m\n\u001b[0m\u001b[0;32m      2\u001b[0m \u001b[0mvx\u001b[0m\u001b[1;33m,\u001b[0m\u001b[0mvy\u001b[0m\u001b[1;33m,\u001b[0m\u001b[0mvz\u001b[0m  \u001b[1;33m=\u001b[0m \u001b[0mdata\u001b[0m\u001b[1;33m[\u001b[0m\u001b[1;34m'v'\u001b[0m\u001b[1;33m]\u001b[0m\u001b[1;33m\u001b[0m\u001b[0m\n",
      "\u001b[1;31mNameError\u001b[0m: name 'np' is not defined"
     ]
    }
   ],
   "source": [
    "data = np.load('data/p3d.0.30000.npz')\n",
    "vx,vy,vz  = data['v']"
   ]
  },
  {
   "cell_type": "code",
   "execution_count": null,
   "metadata": {
    "collapsed": true
   },
   "outputs": [],
   "source": [
    "import glob\n",
    "from IPython.display import display\n",
    "casename=\"p3d\"\n",
    "casefiles =sorted( glob.glob(\"data/\"+casename+\"*.*[0-9].npz\") )\n",
    "\n",
    "for fn in casefiles:\n",
    "    data = np.load(fn)\n",
    "    vx,vy,vz  = data['v']\n",
    "    print fn,\"--> Re from LBM:\",np.nanmax(vx[:,:,:])*ny/visc,\"u_max=\",np.nanmax(vx[:,:,:])\n",
    "    \n"
   ]
  },
  {
   "cell_type": "code",
   "execution_count": null,
   "metadata": {
    "collapsed": true
   },
   "outputs": [],
   "source": [
    "from k3d import K3D\n",
    "import numpy as np \n",
    "color_map = (0x0000ff, 0xff0000,0x00ff00)\n",
    "color_map2 = (0x996600, 0xffff00,0x0f10ff)\n",
    "plot = K3D()\n",
    "gx,gy,gz= tube.shape\n",
    "s = 10.\n",
    "\n",
    "M = np.array([[  0.   ,   0. ,  -gx/s, gx/(s*2)],\n",
    "              [  0.   ,  -gy/s,   0. ,  gy/(s*2)],\n",
    "              [  -gz/s ,   0. ,   0. ,  gz/(s*2)],\n",
    "              [  0.   ,   0. ,   0. ,  1.] ], dtype=np.float32)\n",
    "\n",
    "\n",
    "tube = np.load('tube.npz')['wall_map']\n",
    "\n",
    "walls  = tube\n",
    "geom_walls = K3D.voxels( walls, color_map2,view_matrix=M)\n",
    "vec = K3D.vectors(\n",
    "   ( 0,0,0,0, 0,0,0,0,0), \n",
    "   (30,0,0,0,20,0,0,0,10), \n",
    "   colors=(0xff0000, 0xff0000, 0x0000ff, 0x0000ff, 0x00ff00, 0x00ff00), \n",
    "   labels=('Axis x', 'Axis y', 'Axis z',\"K\")\n",
    ")\n",
    "plot += vec\n",
    "plot.display()\n",
    "plot.camera_auto_fit = False\n",
    "plot += geom_walls"
   ]
  },
  {
   "cell_type": "code",
   "execution_count": 2,
   "metadata": {
    "collapsed": false
   },
   "outputs": [
    {
     "ename": "NameError",
     "evalue": "name 'nx' is not defined",
     "output_type": "error",
     "traceback": [
      "\u001b[1;31m---------------------------------------------------------------------------\u001b[0m",
      "\u001b[1;31mNameError\u001b[0m                                 Traceback (most recent call last)",
      "\u001b[1;32m<ipython-input-2-75a4e5a9a5e3>\u001b[0m in \u001b[0;36m<module>\u001b[1;34m()\u001b[0m\n\u001b[1;32m----> 1\u001b[1;33m \u001b[1;32mprint\u001b[0m \u001b[1;34m\"--lat_nx=\"\u001b[0m\u001b[1;33m+\u001b[0m\u001b[0mstr\u001b[0m\u001b[1;33m(\u001b[0m\u001b[0mnx\u001b[0m\u001b[1;33m)\u001b[0m\u001b[1;33m+\u001b[0m\u001b[1;34m\" --lat_ny=\"\u001b[0m\u001b[1;33m+\u001b[0m\u001b[0mstr\u001b[0m\u001b[1;33m(\u001b[0m\u001b[0mny\u001b[0m\u001b[1;33m)\u001b[0m\u001b[1;33m+\u001b[0m\u001b[1;34m\" --lat_nz=\"\u001b[0m\u001b[1;33m+\u001b[0m\u001b[0mstr\u001b[0m\u001b[1;33m(\u001b[0m\u001b[0mnz\u001b[0m\u001b[1;33m)\u001b[0m\u001b[1;33m+\u001b[0m\u001b[1;34m\" --visc=\"\u001b[0m\u001b[1;33m+\u001b[0m\u001b[0mstr\u001b[0m\u001b[1;33m(\u001b[0m\u001b[0mvisc\u001b[0m\u001b[1;33m)\u001b[0m\u001b[1;33m+\u001b[0m \u001b[1;34m\" --delta_rho=\"\u001b[0m\u001b[1;33m+\u001b[0m\u001b[0mstr\u001b[0m\u001b[1;33m(\u001b[0m\u001b[0mdelta_rho_lu\u001b[0m\u001b[1;33m)\u001b[0m\u001b[1;33m\u001b[0m\u001b[0m\n\u001b[0m",
      "\u001b[1;31mNameError\u001b[0m: name 'nx' is not defined"
     ]
    }
   ],
   "source": [
    "print \"--lat_nx=\"+str(nx)+\" --lat_ny=\"+str(ny)+\" --lat_nz=\"+str(nz)+\" --visc=\"+str(visc)+\\\n",
    " \" --delta_rho=\"+str(delta_rho_lu)"
   ]
  },
  {
   "cell_type": "code",
   "execution_count": null,
   "metadata": {
    "collapsed": true
   },
   "outputs": [],
   "source": []
  }
 ],
 "metadata": {
  "kernelspec": {
   "display_name": "Python 2",
   "language": "python",
   "name": "python2"
  },
  "language_info": {
   "codemirror_mode": {
    "name": "ipython",
    "version": 2
   },
   "file_extension": ".py",
   "mimetype": "text/x-python",
   "name": "python",
   "nbconvert_exporter": "python",
   "pygments_lexer": "ipython2",
   "version": "2.7.6"
  }
 },
 "nbformat": 4,
 "nbformat_minor": 0
}
