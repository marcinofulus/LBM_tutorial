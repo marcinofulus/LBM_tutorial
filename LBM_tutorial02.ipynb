{
 "cells": [
  {
   "cell_type": "code",
   "execution_count": 1,
   "metadata": {
    "collapsed": false
   },
   "outputs": [
    {
     "name": "stdout",
     "output_type": "stream",
     "text": [
      "/dev/shm/marcin.kostur/data :: File exists\n"
     ]
    }
   ],
   "source": [
    "%matplotlib inline\n",
    "import matplotlib.pyplot as plt\n",
    "import numpy as np\n",
    "import sys, os\n",
    "sys.path.append('./sailfish/')\n",
    "\n",
    "datapath = os.path.join( \"/dev/shm/\",os.environ.get(\"USER\"),\"data\")\n",
    "try:\n",
    "    os.makedirs(datapath,mode=0755)\n",
    "except OSError as ex:\n",
    "    print datapath,\"::\",ex.strerror\n",
    "\n",
    "if not os.path.isdir('data') and os.path.islink('data'):\n",
    "    os.remove(\"data\")\n",
    "    \n",
    "if not os.path.islink('data'):\n",
    "    os.symlink(datapath, \"data\")\n"
   ]
  },
  {
   "cell_type": "code",
   "execution_count": 2,
   "metadata": {
    "collapsed": false
   },
   "outputs": [],
   "source": [
    "import sympy\n",
    "sympy.init_printing(use_latex='mathjax')\n"
   ]
  },
  {
   "cell_type": "code",
   "execution_count": 3,
   "metadata": {
    "collapsed": false
   },
   "outputs": [
    {
     "name": "stdout",
     "output_type": "stream",
     "text": [
      "Overwriting data/ex1.py\n"
     ]
    }
   ],
   "source": [
    "%%writefile data/ex1.py\n",
    "import numpy as np\n",
    "from sailfish.subdomain import Subdomain2D\n",
    "from sailfish.node_type import NTFullBBWall, NTEquilibriumVelocity\n",
    "from sailfish.controller import LBSimulationController\n",
    "from sailfish.lb_single import LBFluidSim\n",
    "\n",
    "class MyBlock(Subdomain2D):\n",
    "    max_v = 0.1\n",
    "\n",
    "    def boundary_conditions(self, hx, hy):\n",
    "        wall_map = ( (hx == self.gx-1) | (hx == 0) | (hy == 0) )\n",
    "        self.set_node( (hy == self.gy-1) & (hx>0) & (hx<self.gx-1) , NTEquilibriumVelocity((self.max_v, 0.0)) )\n",
    "        self.set_node(wall_map, NTFullBBWall)\n",
    "        \n",
    "    def initial_conditions(self, sim, hx, hy):\n",
    "        sim.rho[:] = 1.0\n",
    "\n",
    "class MySim(LBFluidSim):\n",
    "    subdomain = MyBlock\n",
    "\n",
    "LBSimulationController(MySim).run()"
   ]
  },
  {
   "cell_type": "code",
   "execution_count": 4,
   "metadata": {
    "collapsed": false
   },
   "outputs": [
    {
     "name": "stderr",
     "output_type": "stream",
     "text": [
      "[   748  INFO Master/GPU4] Machine master starting with PID 105754 at 2016-06-08 14:02:33 UTC\n",
      "[   749  INFO Master/GPU4] Simulation started with: data/ex1.py --max_iters=100 --every=100 --lat_nx=30 --lat_ny=30 --visc=0.01 --output=data/ex1 --output_format=npy --debug_dump_dists --block_size=32\n",
      "[   763  INFO Master/GPU4] Sailfish version: dcc3d33d3c6fe420f78ff1af13471774ef283c74\n",
      "[   763  INFO Master/GPU4] Handling subdomains: [0]\n",
      "[   763  INFO Master/GPU4] Subdomain -> GPU map: {0: 0}\n",
      "[   764  INFO Master/GPU4] Selected backend: cuda\n",
      "[  5157  INFO Subdomain/0] Initializing subdomain.\n",
      "[  5159  INFO Subdomain/0] Required memory: \n",
      "[  5159  INFO Subdomain/0] . distributions: 0 MiB\n",
      "[  5159  INFO Subdomain/0] . fields: 0 MiB\n",
      "[  6269  INFO Subdomain/0] Starting simulation.\n",
      "[  6309  INFO Subdomain/0] Simulation completed after 100 iterations.\n"
     ]
    }
   ],
   "source": [
    "%%sh\n",
    "export PYTHONPATH=$PWD/sailfish/\n",
    "python data/ex1.py --max_iters=100 --every=100 \\\n",
    " --lat_nx=30 --lat_ny=30 \\\n",
    " --visc=0.01\\\n",
    " --output=data/ex1 --output_format=npy --debug_dump_dists --block_size=32"
   ]
  },
  {
   "cell_type": "code",
   "execution_count": 5,
   "metadata": {
    "collapsed": false
   },
   "outputs": [
    {
     "name": "stdout",
     "output_type": "stream",
     "text": [
      "-rw-r--r-- 1 marcin.kostur staff   705 Jun  8 16:02 data/ex1.py\r\n",
      "-rw-r--r-- 1 marcin.kostur staff   586 Jun  8 16:02 data/ex1.subdomains\r\n",
      "-rw-r--r-- 1 marcin.kostur staff   451 Jun  8 16:02 data/ex1.0.000.npz\r\n",
      "-rw-r--r-- 1 marcin.kostur staff 25279 Jun  8 16:02 data/ex1_dists.0.099.npz\r\n",
      "-rw-r--r-- 1 marcin.kostur staff  8936 Jun  8 16:02 data/ex1.0.100.npz\r\n"
     ]
    }
   ],
   "source": [
    "!ls -lrta data/ex1*"
   ]
  },
  {
   "cell_type": "code",
   "execution_count": 6,
   "metadata": {
    "collapsed": false
   },
   "outputs": [
    {
     "data": {
      "text/plain": [
       "['arr_0']"
      ]
     },
     "execution_count": 6,
     "metadata": {},
     "output_type": "execute_result"
    }
   ],
   "source": [
    "data = np.load(\"data/ex1_dists.0.099.npz\")\n",
    "data.files"
   ]
  },
  {
   "cell_type": "code",
   "execution_count": 7,
   "metadata": {
    "collapsed": false
   },
   "outputs": [
    {
     "name": "stdout",
     "output_type": "stream",
     "text": [
      "(9, 32, 32)\n"
     ]
    }
   ],
   "source": [
    "print data['arr_0'].shape"
   ]
  },
  {
   "cell_type": "code",
   "execution_count": 8,
   "metadata": {
    "collapsed": false
   },
   "outputs": [
    {
     "name": "stdout",
     "output_type": "stream",
     "text": [
      "(9, 32, 32)\n"
     ]
    }
   ],
   "source": [
    "print data['arr_0'].shape"
   ]
  },
  {
   "cell_type": "code",
   "execution_count": null,
   "metadata": {
    "collapsed": false
   },
   "outputs": [],
   "source": []
  },
  {
   "cell_type": "code",
   "execution_count": 9,
   "metadata": {
    "collapsed": false
   },
   "outputs": [
    {
     "data": {
      "text/plain": [
       "<matplotlib.contour.QuadContourSet at 0x7f2ce3e32490>"
      ]
     },
     "execution_count": 9,
     "metadata": {},
     "output_type": "execute_result"
    },
    {
     "data": {
      "image/png": "[encoded data removed]",
      "text/plain": [
       "<matplotlib.figure.Figure at 0x7f2ce3ec0ad0>"
      ]
     },
     "metadata": {},
     "output_type": "display_data"
    }
   ],
   "source": [
    "dists = data['arr_0']\n",
    "ny,nx = 32,32\n",
    "Y,X = np.mgrid[0:ny,0:nx]\n",
    "plt.figure(figsize=(5,ny/nx*5))\n",
    "plt.xlim(1,nx-2)\n",
    "plt.ylim(1,ny-2)\n",
    "plt.contourf(X,Y,dists[8,:,:],256)\n"
   ]
  },
  {
   "cell_type": "code",
   "execution_count": 10,
   "metadata": {
    "collapsed": false
   },
   "outputs": [
    {
     "data": {
      "text/plain": [
       "<matplotlib.streamplot.StreamplotSet at 0x7f2ce3353a10>"
      ]
     },
     "execution_count": 10,
     "metadata": {},
     "output_type": "execute_result"
    },
    {
     "data": {
      "image/png": "[encoded data removed]",
      "text/plain": [
       "<matplotlib.figure.Figure at 0x7f2ce3e2ee90>"
      ]
     },
     "metadata": {},
     "output_type": "display_data"
    }
   ],
   "source": [
    "data = np.load(\"data/ex1.0.100.npz\")\n",
    "vx,vy = data['v']\n",
    "ny,nx = vx.shape\n",
    "Y,X = np.mgrid[0:ny,0:nx]\n",
    "plt.figure(figsize=(5,ny/nx*5))\n",
    "plt.xlim(0,nx-1)\n",
    "plt.ylim(0,ny-1)\n",
    "plt.contourf(X,Y,np.sqrt(vy**2+vx**2),256)\n",
    "vy[np.isnan(vy)] = 0.0\n",
    "vx[np.isnan(vx)] = 0.0\n",
    "plt.streamplot(X,Y,vx,vy,color='white')"
   ]
  },
  {
   "cell_type": "code",
   "execution_count": null,
   "metadata": {
    "collapsed": true
   },
   "outputs": [],
   "source": []
  },
  {
   "cell_type": "code",
   "execution_count": 11,
   "metadata": {
    "collapsed": false
   },
   "outputs": [
    {
     "data": {
      "text/plain": [
       "(0.023649693,\n",
       " array([ 0.44355121,  0.11037401,  0.11154968,  0.11141092,  0.11031898,\n",
       "         0.02707268,  0.02842675,  0.02713086,  0.02819798], dtype=float32))"
      ]
     },
     "execution_count": 11,
     "metadata": {},
     "output_type": "execute_result"
    }
   ],
   "source": [
    "vx[27,15],dists[:,27,15]\n"
   ]
  },
  {
   "cell_type": "code",
   "execution_count": 12,
   "metadata": {
    "collapsed": false
   },
   "outputs": [
    {
     "data": {
      "text/plain": [
       "0.99803311"
      ]
     },
     "execution_count": 12,
     "metadata": {},
     "output_type": "execute_result"
    }
   ],
   "source": [
    "np.sum(dists[:,27,15])"
   ]
  },
  {
   "cell_type": "code",
   "execution_count": 13,
   "metadata": {
    "collapsed": false
   },
   "outputs": [],
   "source": [
    "from sailfish import sym\n",
    "from sailfish import sym_equilibrium\n",
    "from sympy import Matrix\n",
    "\n"
   ]
  },
  {
   "cell_type": "code",
   "execution_count": null,
   "metadata": {
    "collapsed": false
   },
   "outputs": [],
   "source": []
  },
  {
   "cell_type": "code",
   "execution_count": 14,
   "metadata": {
    "collapsed": false
   },
   "outputs": [
    {
     "name": "stdout",
     "output_type": "stream",
     "text": [
      "[Matrix([[0, 0]]), Matrix([[1, 0]]), Matrix([[0, 1]]), Matrix([[-1, 0]]), Matrix([[0, -1]]), Matrix([[1, 1]]), Matrix([[-1, 1]]), Matrix([[-1, -1]]), Matrix([[1, -1]])]\n"
     ]
    }
   ],
   "source": [
    "print sym.D2Q9.basis"
   ]
  },
  {
   "cell_type": "code",
   "execution_count": 15,
   "metadata": {
    "collapsed": false
   },
   "outputs": [
    {
     "data": {
      "text/latex": [
       "$$0.0236993390016$$"
      ],
      "text/plain": [
       "0.0236993390016"
      ]
     },
     "execution_count": 15,
     "metadata": {},
     "output_type": "execute_result"
    }
   ],
   "source": [
    "sum([map(float,c*fi)[0] for c,fi in zip(sym.D2Q9.basis,dists[:,28,16])])/np.sum(dists[:,27,15])"
   ]
  },
  {
   "cell_type": "code",
   "execution_count": 16,
   "metadata": {
    "collapsed": false
   },
   "outputs": [
    {
     "data": {
      "text/plain": [
       "array([ 0.4441115 ,  0.11903482,  0.11172455,  0.10335898,  0.11079209,\n",
       "        0.02833353,  0.02737971,  0.02418511,  0.03120819], dtype=float32)"
      ]
     },
     "execution_count": 16,
     "metadata": {},
     "output_type": "execute_result"
    }
   ],
   "source": [
    "dists[:,28,16]"
   ]
  },
  {
   "cell_type": "markdown",
   "metadata": {
    "collapsed": true
   },
   "source": [
    "Type:\n",
    "\n",
    "    sym_equilibrium.bgk_equilibrium??\n",
    "\n",
    "to see the soruce code"
   ]
  },
  {
   "cell_type": "code",
   "execution_count": 22,
   "metadata": {
    "collapsed": false
   },
   "outputs": [
    {
     "data": {
      "text/latex": [
       "$$\\left ( \\left [ \\frac{4 g0m0}{9} \\left(- \\frac{3 g0m1x^{2}}{2} - \\frac{3 g0m1y^{2}}{2}\\right) + \\frac{4 g0m0}{9}, \\quad \\frac{g0m0}{9} \\left(g0m1x \\left(3 g0m1x + 3\\right) - \\frac{3 g0m1y^{2}}{2}\\right) + \\frac{g0m0}{9}, \\quad \\frac{g0m0}{9} \\left(- \\frac{3 g0m1x^{2}}{2} + g0m1y \\left(3 g0m1y + 3\\right)\\right) + \\frac{g0m0}{9}, \\quad \\frac{g0m0}{9} \\left(g0m1x \\left(3 g0m1x - 3\\right) - \\frac{3 g0m1y^{2}}{2}\\right) + \\frac{g0m0}{9}, \\quad \\frac{g0m0}{9} \\left(- \\frac{3 g0m1x^{2}}{2} + g0m1y \\left(3 g0m1y - 3\\right)\\right) + \\frac{g0m0}{9}, \\quad \\frac{g0m0}{36} \\left(g0m1x \\left(3 g0m1x + 9 g0m1y + 3\\right) + g0m1y \\left(3 g0m1y + 3\\right)\\right) + \\frac{g0m0}{36}, \\quad \\frac{g0m0}{36} \\left(g0m1x \\left(3 g0m1x - 9 g0m1y - 3\\right) + g0m1y \\left(3 g0m1y + 3\\right)\\right) + \\frac{g0m0}{36}, \\quad \\frac{g0m0}{36} \\left(g0m1x \\left(3 g0m1x + 9 g0m1y - 3\\right) + g0m1y \\left(3 g0m1y - 3\\right)\\right) + \\frac{g0m0}{36}, \\quad \\frac{g0m0}{36} \\left(g0m1x \\left(3 g0m1x - 9 g0m1y + 3\\right) + g0m1y \\left(3 g0m1y - 3\\right)\\right) + \\frac{g0m0}{36}\\right ], \\quad \\left [ \\right ]\\right )$$"
      ],
      "text/plain": [
       "⎛⎡       ⎛         2          2⎞                ⎛                             \n",
       "⎜⎢       ⎜  3⋅g0m1x    3⋅g0m1y ⎟                ⎜                      3⋅g0m1y\n",
       "⎜⎢4⋅g0m0⋅⎜- ──────── - ────────⎟           g0m0⋅⎜g0m1x⋅(3⋅g0m1x + 3) - ───────\n",
       "⎜⎢       ⎝     2          2    ⎠   4⋅g0m0       ⎝                         2   \n",
       "⎜⎢────────────────────────────── + ──────, ───────────────────────────────────\n",
       "⎝⎣              9                    9                       9                \n",
       "\n",
       "2⎞              ⎛         2                      ⎞              ⎛             \n",
       " ⎟              ⎜  3⋅g0m1x                       ⎟              ⎜             \n",
       "─⎟         g0m0⋅⎜- ──────── + g0m1y⋅(3⋅g0m1y + 3)⎟         g0m0⋅⎜g0m1x⋅(3⋅g0m1\n",
       " ⎠   g0m0       ⎝     2                          ⎠   g0m0       ⎝             \n",
       "── + ────, ─────────────────────────────────────── + ────, ───────────────────\n",
       "      9                       9                       9                      9\n",
       "\n",
       "                2⎞              ⎛         2                      ⎞            \n",
       "         3⋅g0m1y ⎟              ⎜  3⋅g0m1x                       ⎟            \n",
       "x - 3) - ────────⎟         g0m0⋅⎜- ──────── + g0m1y⋅(3⋅g0m1y - 3)⎟            \n",
       "            2    ⎠   g0m0       ⎝     2                          ⎠   g0m0  g0m\n",
       "────────────────── + ────, ─────────────────────────────────────── + ────, ───\n",
       "                      9                       9                       9       \n",
       "\n",
       "                                                                              \n",
       "                                                                              \n",
       "                                                                              \n",
       "0⋅(g0m1x⋅(3⋅g0m1x + 9⋅g0m1y + 3) + g0m1y⋅(3⋅g0m1y + 3))   g0m0  g0m0⋅(g0m1x⋅(3\n",
       "─────────────────────────────────────────────────────── + ────, ──────────────\n",
       "                         36                                36                 \n",
       "\n",
       "                                                                              \n",
       "                                                                              \n",
       "                                                                              \n",
       "⋅g0m1x - 9⋅g0m1y - 3) + g0m1y⋅(3⋅g0m1y + 3))   g0m0  g0m0⋅(g0m1x⋅(3⋅g0m1x + 9⋅\n",
       "──────────────────────────────────────────── + ────, ─────────────────────────\n",
       "              36                                36                            \n",
       "\n",
       "                                                                              \n",
       "                                                                              \n",
       "                                                                              \n",
       "g0m1y - 3) + g0m1y⋅(3⋅g0m1y - 3))   g0m0  g0m0⋅(g0m1x⋅(3⋅g0m1x - 9⋅g0m1y + 3) \n",
       "───────────────────────────────── + ────, ────────────────────────────────────\n",
       "   36                                36                               36      \n",
       "\n",
       "                             ⎤    ⎞\n",
       "                             ⎥    ⎟\n",
       "                             ⎥    ⎟\n",
       "+ g0m1y⋅(3⋅g0m1y - 3))   g0m0⎥    ⎟\n",
       "────────────────────── + ────⎥, []⎟\n",
       "                          36 ⎦    ⎠"
      ]
     },
     "execution_count": 22,
     "metadata": {},
     "output_type": "execute_result"
    }
   ],
   "source": [
    "class C:\n",
    "    incompressible = False\n",
    "    minimize_roundoff = False\n",
    "config = C()\n",
    "sym_equilibrium.bgk_equilibrium(sym.D2Q9,config)"
   ]
  },
  {
   "cell_type": "code",
   "execution_count": 23,
   "metadata": {
    "collapsed": true
   },
   "outputs": [],
   "source": [
    "from sailfish.sym import S as SS\n",
    "\n",
    "def subs(a):\n",
    "    if hasattr(a,\"subs\"):\n",
    "        return a.subs(SS.aliases)\n",
    "    else:\n",
    "        return a          \n",
    "            "
   ]
  },
  {
   "cell_type": "code",
   "execution_count": 24,
   "metadata": {
    "collapsed": false
   },
   "outputs": [
    {
     "data": {
      "text/plain": [
       "{g0m1z: 'vz',\n",
       " g0m1y: 'vy',\n",
       " g0m1x: 'vx',\n",
       " g1m0: 'phi',\n",
       " g2m0: 'theta',\n",
       " g0m0: 'rho'}"
      ]
     },
     "execution_count": 24,
     "metadata": {},
     "output_type": "execute_result"
    }
   ],
   "source": [
    "SS.aliases"
   ]
  },
  {
   "cell_type": "code",
   "execution_count": 25,
   "metadata": {
    "collapsed": false
   },
   "outputs": [
    {
     "data": {
      "text/latex": [
       "$$\\left [ \\frac{4 \\rho}{9} \\left(- \\frac{3 vx^{2}}{2} - \\frac{3 vy^{2}}{2}\\right) + \\frac{4 \\rho}{9}, \\quad \\frac{\\rho}{9} \\left(vx \\left(3 vx + 3\\right) - \\frac{3 vy^{2}}{2}\\right) + \\frac{\\rho}{9}, \\quad \\frac{\\rho}{9} \\left(- \\frac{3 vx^{2}}{2} + vy \\left(3 vy + 3\\right)\\right) + \\frac{\\rho}{9}, \\quad \\frac{\\rho}{9} \\left(vx \\left(3 vx - 3\\right) - \\frac{3 vy^{2}}{2}\\right) + \\frac{\\rho}{9}, \\quad \\frac{\\rho}{9} \\left(- \\frac{3 vx^{2}}{2} + vy \\left(3 vy - 3\\right)\\right) + \\frac{\\rho}{9}, \\quad \\frac{\\rho}{36} \\left(vx \\left(3 vx + 9 vy + 3\\right) + vy \\left(3 vy + 3\\right)\\right) + \\frac{\\rho}{36}, \\quad \\frac{\\rho}{36} \\left(vx \\left(3 vx - 9 vy - 3\\right) + vy \\left(3 vy + 3\\right)\\right) + \\frac{\\rho}{36}, \\quad \\frac{\\rho}{36} \\left(vx \\left(3 vx + 9 vy - 3\\right) + vy \\left(3 vy - 3\\right)\\right) + \\frac{\\rho}{36}, \\quad \\frac{\\rho}{36} \\left(vx \\left(3 vx - 9 vy + 3\\right) + vy \\left(3 vy - 3\\right)\\right) + \\frac{\\rho}{36}\\right ]$$"
      ],
      "text/plain": [
       "⎡    ⎛      2       2⎞          ⎛                    2⎞        ⎛      2       \n",
       "⎢    ⎜  3⋅vx    3⋅vy ⎟          ⎜                3⋅vy ⎟        ⎜  3⋅vx        \n",
       "⎢4⋅ρ⋅⎜- ───── - ─────⎟        ρ⋅⎜vx⋅(3⋅vx + 3) - ─────⎟      ρ⋅⎜- ───── + vy⋅(\n",
       "⎢    ⎝    2       2  ⎠   4⋅ρ    ⎝                  2  ⎠   ρ    ⎝    2         \n",
       "⎢───────────────────── + ───, ───────────────────────── + ─, ─────────────────\n",
       "⎣          9              9               9               9               9   \n",
       "\n",
       "         ⎞        ⎛                    2⎞        ⎛      2                ⎞    \n",
       "         ⎟        ⎜                3⋅vy ⎟        ⎜  3⋅vx                 ⎟    \n",
       "3⋅vy + 3)⎟      ρ⋅⎜vx⋅(3⋅vx - 3) - ─────⎟      ρ⋅⎜- ───── + vy⋅(3⋅vy - 3)⎟    \n",
       "         ⎠   ρ    ⎝                  2  ⎠   ρ    ⎝    2                  ⎠   ρ\n",
       "────────── + ─, ───────────────────────── + ─, ─────────────────────────── + ─\n",
       "             9              9               9               9                9\n",
       "\n",
       "                                                                              \n",
       "                                                                              \n",
       "                                                                              \n",
       "  ρ⋅(vx⋅(3⋅vx + 9⋅vy + 3) + vy⋅(3⋅vy + 3))   ρ   ρ⋅(vx⋅(3⋅vx - 9⋅vy - 3) + vy⋅\n",
       ", ──────────────────────────────────────── + ──, ─────────────────────────────\n",
       "                     36                      36                     36        \n",
       "\n",
       "                                                                              \n",
       "                                                                              \n",
       "                                                                              \n",
       "(3⋅vy + 3))   ρ   ρ⋅(vx⋅(3⋅vx + 9⋅vy - 3) + vy⋅(3⋅vy - 3))   ρ   ρ⋅(vx⋅(3⋅vx -\n",
       "─────────── + ──, ──────────────────────────────────────── + ──, ─────────────\n",
       "              36                     36                      36               \n",
       "\n",
       "                                ⎤\n",
       "                                ⎥\n",
       "                                ⎥\n",
       " 9⋅vy + 3) + vy⋅(3⋅vy - 3))   ρ ⎥\n",
       "─────────────────────────── + ──⎥\n",
       "      36                      36⎦"
      ]
     },
     "execution_count": 25,
     "metadata": {},
     "output_type": "execute_result"
    }
   ],
   "source": [
    "map(subs,sym_equilibrium.bgk_equilibrium(sym.D2Q9,config)[0])"
   ]
  },
  {
   "cell_type": "code",
   "execution_count": 26,
   "metadata": {
    "collapsed": false
   },
   "outputs": [
    {
     "name": "stdout",
     "output_type": "stream",
     "text": [
      "0.444444444444444\n"
     ]
    }
   ],
   "source": [
    "import sympy as S\n",
    "#from sailfish.sym import S\n",
    "g0m0,g0m1x,g0m1y = S.symbols('g0m0,g0m1x,g0m1y')\n",
    "\n",
    "print sym_equilibrium.bgk_equilibrium(sym.D2Q9,config)[0][0].subs([(g0m0,1),(g0m1x,0),(g0m1y,0)]).n()"
   ]
  },
  {
   "cell_type": "code",
   "execution_count": 27,
   "metadata": {
    "collapsed": true
   },
   "outputs": [],
   "source": [
    "feq = sym_equilibrium.bgk_equilibrium(sym.D2Q9,config)[0]"
   ]
  },
  {
   "cell_type": "code",
   "execution_count": null,
   "metadata": {
    "collapsed": false
   },
   "outputs": [],
   "source": []
  },
  {
   "cell_type": "code",
   "execution_count": null,
   "metadata": {
    "collapsed": false
   },
   "outputs": [],
   "source": []
  },
  {
   "cell_type": "code",
   "execution_count": 28,
   "metadata": {
    "collapsed": false
   },
   "outputs": [
    {
     "name": "stdout",
     "output_type": "stream",
     "text": [
      "rho\n"
     ]
    }
   ],
   "source": [
    "print subs(sum(feq).simplify())"
   ]
  },
  {
   "cell_type": "code",
   "execution_count": 29,
   "metadata": {
    "collapsed": false
   },
   "outputs": [
    {
     "data": {
      "text/latex": [
       "$$\\frac{4 \\rho}{9} \\left(- \\frac{3 vx^{2}}{2} - \\frac{3 vy^{2}}{2}\\right) + \\frac{\\rho}{9} \\left(- \\frac{3 vx^{2}}{2} + vy \\left(3 vy - 3\\right)\\right) + \\frac{\\rho}{9} \\left(- \\frac{3 vx^{2}}{2} + vy \\left(3 vy + 3\\right)\\right) + \\frac{\\rho}{9} \\left(vx \\left(3 vx - 3\\right) - \\frac{3 vy^{2}}{2}\\right) + \\frac{\\rho}{9} \\left(vx \\left(3 vx + 3\\right) - \\frac{3 vy^{2}}{2}\\right) + \\frac{\\rho}{36} \\left(vx \\left(3 vx - 9 vy - 3\\right) + vy \\left(3 vy + 3\\right)\\right) + \\frac{\\rho}{36} \\left(vx \\left(3 vx - 9 vy + 3\\right) + vy \\left(3 vy - 3\\right)\\right) + \\frac{\\rho}{36} \\left(vx \\left(3 vx + 9 vy - 3\\right) + vy \\left(3 vy - 3\\right)\\right) + \\frac{\\rho}{36} \\left(vx \\left(3 vx + 9 vy + 3\\right) + vy \\left(3 vy + 3\\right)\\right) + \\rho$$"
      ],
      "text/plain": [
       "    ⎛      2       2⎞     ⎛      2                ⎞     ⎛      2              \n",
       "    ⎜  3⋅vx    3⋅vy ⎟     ⎜  3⋅vx                 ⎟     ⎜  3⋅vx               \n",
       "4⋅ρ⋅⎜- ───── - ─────⎟   ρ⋅⎜- ───── + vy⋅(3⋅vy - 3)⎟   ρ⋅⎜- ───── + vy⋅(3⋅vy + \n",
       "    ⎝    2       2  ⎠     ⎝    2                  ⎠     ⎝    2                \n",
       "───────────────────── + ─────────────────────────── + ────────────────────────\n",
       "          9                          9                             9          \n",
       "\n",
       "  ⎞     ⎛                    2⎞     ⎛                    2⎞                   \n",
       "  ⎟     ⎜                3⋅vy ⎟     ⎜                3⋅vy ⎟                   \n",
       "3)⎟   ρ⋅⎜vx⋅(3⋅vx - 3) - ─────⎟   ρ⋅⎜vx⋅(3⋅vx + 3) - ─────⎟                   \n",
       "  ⎠     ⎝                  2  ⎠     ⎝                  2  ⎠   ρ⋅(vx⋅(3⋅vx - 9⋅\n",
       "─── + ───────────────────────── + ───────────────────────── + ────────────────\n",
       "                  9                           9                               \n",
       "\n",
       "                                                                              \n",
       "                                                                              \n",
       "                                                                              \n",
       "vy - 3) + vy⋅(3⋅vy + 3))   ρ⋅(vx⋅(3⋅vx - 9⋅vy + 3) + vy⋅(3⋅vy - 3))   ρ⋅(vx⋅(3\n",
       "──────────────────────── + ──────────────────────────────────────── + ────────\n",
       "   36                                         36                              \n",
       "\n",
       "                                                                              \n",
       "                                                                              \n",
       "                                                                              \n",
       "⋅vx + 9⋅vy - 3) + vy⋅(3⋅vy - 3))   ρ⋅(vx⋅(3⋅vx + 9⋅vy + 3) + vy⋅(3⋅vy + 3))   \n",
       "──────────────────────────────── + ──────────────────────────────────────── + \n",
       "           36                                         36                      \n",
       "\n",
       " \n",
       " \n",
       " \n",
       " \n",
       "ρ\n",
       " "
      ]
     },
     "execution_count": 29,
     "metadata": {},
     "output_type": "execute_result"
    }
   ],
   "source": [
    "subs(sum(feq))"
   ]
  },
  {
   "cell_type": "code",
   "execution_count": null,
   "metadata": {
    "collapsed": false
   },
   "outputs": [],
   "source": []
  },
  {
   "cell_type": "code",
   "execution_count": 30,
   "metadata": {
    "collapsed": false,
    "scrolled": true
   },
   "outputs": [
    {
     "data": {
      "text/latex": [
       "$$\\frac{g0m0}{9} \\left(g0m1x \\left(3 g0m1x + 3\\right) - \\frac{3 g0m1y^{2}}{2}\\right) + \\frac{g0m0}{9}$$"
      ],
      "text/plain": [
       "     ⎛                             2⎞       \n",
       "     ⎜                      3⋅g0m1y ⎟       \n",
       "g0m0⋅⎜g0m1x⋅(3⋅g0m1x + 3) - ────────⎟       \n",
       "     ⎝                         2    ⎠   g0m0\n",
       "───────────────────────────────────── + ────\n",
       "                  9                      9  "
      ]
     },
     "execution_count": 30,
     "metadata": {},
     "output_type": "execute_result"
    }
   ],
   "source": [
    "feq[1]*sym.D2Q9.basis[1][0]"
   ]
  },
  {
   "cell_type": "code",
   "execution_count": 31,
   "metadata": {
    "collapsed": false
   },
   "outputs": [],
   "source": [
    "vv = [f*e for f,e in zip(feq,sym.D2Q9.basis)]"
   ]
  },
  {
   "cell_type": "code",
   "execution_count": 32,
   "metadata": {
    "collapsed": false
   },
   "outputs": [
    {
     "data": {
      "text/latex": [
       "$$\\left[\\begin{matrix}\\rho vx & \\rho vy\\end{matrix}\\right]$$"
      ],
      "text/plain": [
       "[ρ⋅vx  ρ⋅vy]"
      ]
     },
     "execution_count": 32,
     "metadata": {},
     "output_type": "execute_result"
    }
   ],
   "source": [
    "suma  = Matrix([[0, 0]])\n",
    "for f,e in zip(feq,sym.D2Q9.basis):\n",
    "    suma += f*e\n",
    "suma.simplify()\n",
    "subs(suma)"
   ]
  },
  {
   "cell_type": "code",
   "execution_count": 33,
   "metadata": {
    "collapsed": false
   },
   "outputs": [
    {
     "data": {
      "text/latex": [
       "$$\\frac{2 \\rho}{3}$$"
      ],
      "text/plain": [
       "2⋅ρ\n",
       "───\n",
       " 3 "
      ]
     },
     "execution_count": 33,
     "metadata": {},
     "output_type": "execute_result"
    }
   ],
   "source": [
    "suma  = 0\n",
    "u = Matrix([[g0m1x, g0m1y]])\n",
    "for f,e in zip(feq,sym.D2Q9.basis):\n",
    "    suma += f*(e-u).dot(e-u)\n",
    "subs(suma.simplify())"
   ]
  },
  {
   "cell_type": "code",
   "execution_count": null,
   "metadata": {
    "collapsed": false
   },
   "outputs": [],
   "source": []
  },
  {
   "cell_type": "code",
   "execution_count": 34,
   "metadata": {
    "collapsed": false
   },
   "outputs": [
    {
     "data": {
      "text/latex": [
       "$$\\rho vx^{2} + \\rho vy^{2} + \\frac{2 \\rho}{3}$$"
      ],
      "text/plain": [
       "    2       2   2⋅ρ\n",
       "ρ⋅vx  + ρ⋅vy  + ───\n",
       "                 3 "
      ]
     },
     "execution_count": 34,
     "metadata": {},
     "output_type": "execute_result"
    }
   ],
   "source": [
    "suma  = 0\n",
    "u = Matrix([[g0m1x, g0m1y]])\n",
    "for f,e in zip(feq,sym.D2Q9.basis):\n",
    "    suma += f*(e).dot(e)\n",
    "subs(suma.simplify().expand())"
   ]
  },
  {
   "cell_type": "code",
   "execution_count": null,
   "metadata": {
    "collapsed": false
   },
   "outputs": [],
   "source": []
  },
  {
   "cell_type": "code",
   "execution_count": null,
   "metadata": {
    "collapsed": true
   },
   "outputs": [],
   "source": []
  },
  {
   "cell_type": "code",
   "execution_count": null,
   "metadata": {
    "collapsed": true
   },
   "outputs": [],
   "source": []
  },
  {
   "cell_type": "code",
   "execution_count": 35,
   "metadata": {
    "collapsed": false
   },
   "outputs": [
    {
     "data": {
      "text/latex": [
       "$$\\left ( -1.2, \\quad 1.2\\right )$$"
      ],
      "text/plain": [
       "(-1.2, 1.2)"
      ]
     },
     "execution_count": 35,
     "metadata": {},
     "output_type": "execute_result"
    },
    {
     "data": {
      "image/png": "[encoded data removed]",
      "text/plain": [
       "<matplotlib.figure.Figure at 0x7f2ce19d4f10>"
      ]
     },
     "metadata": {},
     "output_type": "display_data"
    }
   ],
   "source": [
    "plt.figure(figsize=(6,6))\n",
    "ax = plt.axes()\n",
    "\n",
    "for b in sym.D2Q9.basis[1:]:\n",
    "    ax.arrow(0, 0, *map(float,b), head_width=0.05, head_length=0.1, fc='k', ec='k')\n",
    "\n",
    "plt.xlim(-1.2,1.2)\n",
    "plt.ylim(-1.2,1.2)"
   ]
  },
  {
   "cell_type": "code",
   "execution_count": 36,
   "metadata": {
    "collapsed": false
   },
   "outputs": [],
   "source": [
    "eq_fncs = sym_equilibrium.bgk_equilibrium(sym.D2Q9,config)[0]"
   ]
  },
  {
   "cell_type": "code",
   "execution_count": 37,
   "metadata": {
    "collapsed": false
   },
   "outputs": [
    {
     "data": {
      "text/latex": [
       "$$\\left [ 0.391111111111, \\quad 0.184444444444, \\quad 0.184444444444, \\quad 0.0511111111111, \\quad 0.0511111111111, \\quad 0.0777777777778, \\quad 0.0244444444444, \\quad 0.0111111111111, \\quad 0.0244444444444\\right ]$$"
      ],
      "text/plain": [
       "[0.391111111111, 0.184444444444, 0.184444444444, 0.0511111111111, 0.0511111111\n",
       "111, 0.0777777777778, 0.0244444444444, 0.0111111111111, 0.0244444444444]"
      ]
     },
     "execution_count": 37,
     "metadata": {},
     "output_type": "execute_result"
    }
   ],
   "source": [
    "d = [float(ex.subs([(g0m0,1),(g0m1x,.2),(g0m1y,0.2)]) ) for ex in eq_fncs]\n",
    "d"
   ]
  },
  {
   "cell_type": "code",
   "execution_count": 38,
   "metadata": {
    "collapsed": false
   },
   "outputs": [
    {
     "data": {
      "text/latex": [
       "$$\\left ( -0.4, \\quad 0.4\\right )$$"
      ],
      "text/plain": [
       "(-0.4, 0.4)"
      ]
     },
     "execution_count": 38,
     "metadata": {},
     "output_type": "execute_result"
    },
    {
     "data": {
      "image/png": "[encoded data removed]",
      "text/plain": [
       "<matplotlib.figure.Figure at 0x7f2d0a504890>"
      ]
     },
     "metadata": {},
     "output_type": "display_data"
    }
   ],
   "source": [
    "plt.figure(figsize=(6,6))\n",
    "ax = plt.axes()\n",
    "\n",
    "for w,b in zip(sym.D2Q9.basis[1:],d[1:]):\n",
    "    ax.arrow(0, 0, *map(float,b*w.normalized()), head_width=0.02, head_length=0.03, fc='r', ec='k')\n",
    "a=.4\n",
    "plt.xlim(-a,a)\n",
    "plt.ylim(-a,a)"
   ]
  },
  {
   "cell_type": "code",
   "execution_count": 39,
   "metadata": {
    "collapsed": false
   },
   "outputs": [
    {
     "data": {
      "text/latex": [
       "$$\\left [ 0.44407052709, \\quad 0.119180516596, \\quad 0.111435825042, \\quad 0.103414054906, \\quad 0.110601006578, \\quad 0.0299070811663, \\quad 0.0259506583437, \\quad 0.0257567611278, \\quad 0.0296835691504\\right ]$$"
      ],
      "text/plain": [
       "[0.44407052709, 0.119180516596, 0.111435825042, 0.103414054906, 0.110601006578\n",
       ", 0.0299070811663, 0.0259506583437, 0.0257567611278, 0.0296835691504]"
      ]
     },
     "execution_count": 39,
     "metadata": {},
     "output_type": "execute_result"
    }
   ],
   "source": [
    "d = [float(ex.subs([(g0m0,1),(g0m1x,vx[27,15]),(g0m1y,vy[27,15])]) ) for ex in eq_fncs]\n",
    "d"
   ]
  },
  {
   "cell_type": "code",
   "execution_count": 40,
   "metadata": {
    "collapsed": false
   },
   "outputs": [
    {
     "data": {
      "text/latex": [
       "$$\\left ( -0.3, \\quad 0.3\\right )$$"
      ],
      "text/plain": [
       "(-0.3, 0.3)"
      ]
     },
     "execution_count": 40,
     "metadata": {},
     "output_type": "execute_result"
    },
    {
     "data": {
      "image/png": "[encoded data removed]",
      "text/plain": [
       "<matplotlib.figure.Figure at 0x7f2ce178e650>"
      ]
     },
     "metadata": {},
     "output_type": "display_data"
    }
   ],
   "source": [
    "d = [float(ex.subs([(g0m0,1),(g0m1x,vx[27,15]),(g0m1y,vy[27,15])]) ) for ex in eq_fncs]\n",
    "dnon = dists[:,28,16]\n",
    "plt.figure(figsize=(6,6))\n",
    "ax = plt.axes()\n",
    "\n",
    "for w,b in zip(sym.D2Q9.basis[1:],d[1:]):\n",
    "    ax.arrow(0, 0, *map(float,b*w.normalized()), head_width=0.02, head_length=0.03, fc='r', ec='k')\n",
    "for w,b in zip(sym.D2Q9.basis[1:],dnon[1:]):\n",
    "    ax.arrow(0, 0, *map(float,b*w.normalized()), head_width=0.01, head_length=0.02, fc='b', ec='b')\n",
    "    \n",
    "a=.3\n",
    "plt.xlim(-a,a)\n",
    "plt.ylim(-a,a)"
   ]
  },
  {
   "cell_type": "code",
   "execution_count": 41,
   "metadata": {
    "collapsed": false
   },
   "outputs": [
    {
     "data": {
      "text/latex": [
       "$$\\left [ 0.44407052709, \\quad 0.119180516596, \\quad 0.111435825042, \\quad 0.103414054906, \\quad 0.110601006578, \\quad 0.0299070811663, \\quad 0.0259506583437, \\quad 0.0257567611278, \\quad 0.0296835691504\\right ]$$"
      ],
      "text/plain": [
       "[0.44407052709, 0.119180516596, 0.111435825042, 0.103414054906, 0.110601006578\n",
       ", 0.0299070811663, 0.0259506583437, 0.0257567611278, 0.0296835691504]"
      ]
     },
     "execution_count": 41,
     "metadata": {},
     "output_type": "execute_result"
    }
   ],
   "source": [
    "d"
   ]
  },
  {
   "cell_type": "code",
   "execution_count": 42,
   "metadata": {
    "collapsed": false
   },
   "outputs": [
    {
     "data": {
      "text/plain": [
       "array([ 0.4441115 ,  0.11903482,  0.11172455,  0.10335898,  0.11079209,\n",
       "        0.02833353,  0.02737971,  0.02418511,  0.03120819], dtype=float32)"
      ]
     },
     "execution_count": 42,
     "metadata": {},
     "output_type": "execute_result"
    }
   ],
   "source": [
    "dnon"
   ]
  },
  {
   "cell_type": "code",
   "execution_count": 43,
   "metadata": {
    "collapsed": true
   },
   "outputs": [],
   "source": [
    "from ipywidgets.widgets import interact, interactive, fixed\n",
    "from ipywidgets import widgets"
   ]
  },
  {
   "cell_type": "code",
   "execution_count": 44,
   "metadata": {
    "collapsed": false
   },
   "outputs": [],
   "source": [
    "from IPython.display import clear_output, display, HTML\n",
    "\n",
    "\n",
    "def show_eq(vx,vy):\n",
    "    \n",
    "    d = [float(ex.subs([(g0m0,1),(g0m1x,vx),(g0m1y,vy)]) ) for ex in eq_fncs]\n",
    "\n",
    "    plt.figure(figsize=(6,6))\n",
    "    ax = plt.axes()\n",
    "\n",
    "    for w,b in zip(sym.D2Q9.basis[1:],d[1:]):\n",
    "        ax.arrow(0, 0, *map(float,b*w.normalized()), head_width=0.02, head_length=0.03, fc='r', ec='k')\n",
    "        if b<0:\n",
    "            print \"Negative distribution:\",w\n",
    "    a=.4\n",
    "    plt.xlim(-a,a)\n",
    "    plt.ylim(-a,a)\n",
    "    \n",
    "    plt.show()"
   ]
  },
  {
   "cell_type": "code",
   "execution_count": 45,
   "metadata": {
    "collapsed": false
   },
   "outputs": [
    {
     "data": {
      "image/png": "[encoded data removed]",
      "text/plain": [
       "<matplotlib.figure.Figure at 0x7f2ce17f22d0>"
      ]
     },
     "metadata": {},
     "output_type": "display_data"
    }
   ],
   "source": [
    "w = interactive(show_eq, vx=(0.,1.0), vy=(0,1.))\n",
    "display(w)"
   ]
  },
  {
   "cell_type": "code",
   "execution_count": null,
   "metadata": {
    "collapsed": false
   },
   "outputs": [],
   "source": []
  },
  {
   "cell_type": "code",
   "execution_count": null,
   "metadata": {
    "collapsed": true
   },
   "outputs": [],
   "source": []
  }
 ],
 "metadata": {
  "kernelspec": {
   "display_name": "GPU4, Python 2",
   "language": "python2",
   "name": "gpu4"
  },
  "language_info": {
   "codemirror_mode": {
    "name": "ipython",
    "version": 2
   },
   "file_extension": ".py",
   "mimetype": "text/x-python",
   "name": "python",
   "nbconvert_exporter": "python",
   "pygments_lexer": "ipython2",
   "version": "2.7.6"
  }
 },
 "nbformat": 4,
 "nbformat_minor": 0
}
